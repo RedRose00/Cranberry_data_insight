{
 "cells": [
  {
   "cell_type": "code",
   "execution_count": 138,
   "id": "368f76d0",
   "metadata": {},
   "outputs": [
    {
     "name": "stdout",
     "output_type": "stream",
     "text": [
      "False\n"
     ]
    },
    {
     "data": {
      "text/html": [
       "<div>\n",
       "<style scoped>\n",
       "    .dataframe tbody tr th:only-of-type {\n",
       "        vertical-align: middle;\n",
       "    }\n",
       "\n",
       "    .dataframe tbody tr th {\n",
       "        vertical-align: top;\n",
       "    }\n",
       "\n",
       "    .dataframe thead th {\n",
       "        text-align: right;\n",
       "    }\n",
       "</style>\n",
       "<table border=\"1\" class=\"dataframe\">\n",
       "  <thead>\n",
       "    <tr style=\"text-align: right;\">\n",
       "      <th></th>\n",
       "      <th>date</th>\n",
       "      <th>user_id</th>\n",
       "      <th>unique_id</th>\n",
       "      <th>cycle_id</th>\n",
       "      <th>cycle_day</th>\n",
       "      <th>phase_id</th>\n",
       "      <th>abdomen_cramps</th>\n",
       "      <th>backache</th>\n",
       "      <th>tender_breasts</th>\n",
       "      <th>muscle_ache</th>\n",
       "      <th>headache</th>\n",
       "      <th>bloating</th>\n",
       "    </tr>\n",
       "  </thead>\n",
       "  <tbody>\n",
       "    <tr>\n",
       "      <th>0</th>\n",
       "      <td>25/7/2022</td>\n",
       "      <td>1006</td>\n",
       "      <td>100644767</td>\n",
       "      <td>1.0</td>\n",
       "      <td>7.0</td>\n",
       "      <td>1.0</td>\n",
       "      <td>0</td>\n",
       "      <td>0</td>\n",
       "      <td>0</td>\n",
       "      <td>0</td>\n",
       "      <td>0</td>\n",
       "      <td>0</td>\n",
       "    </tr>\n",
       "    <tr>\n",
       "      <th>1</th>\n",
       "      <td>25/7/2022</td>\n",
       "      <td>1008</td>\n",
       "      <td>100844767</td>\n",
       "      <td>1.0</td>\n",
       "      <td>29.0</td>\n",
       "      <td>3.0</td>\n",
       "      <td>0</td>\n",
       "      <td>0</td>\n",
       "      <td>Mild</td>\n",
       "      <td>0</td>\n",
       "      <td>Mild</td>\n",
       "      <td>0</td>\n",
       "    </tr>\n",
       "    <tr>\n",
       "      <th>2</th>\n",
       "      <td>25/7/2022</td>\n",
       "      <td>1012</td>\n",
       "      <td>101244767</td>\n",
       "      <td>1.0</td>\n",
       "      <td>12.0</td>\n",
       "      <td>2.0</td>\n",
       "      <td>0</td>\n",
       "      <td>0</td>\n",
       "      <td>0</td>\n",
       "      <td>0</td>\n",
       "      <td>0</td>\n",
       "      <td>0</td>\n",
       "    </tr>\n",
       "    <tr>\n",
       "      <th>3</th>\n",
       "      <td>25/7/2022</td>\n",
       "      <td>1014</td>\n",
       "      <td>101444767</td>\n",
       "      <td>1.0</td>\n",
       "      <td>15.0</td>\n",
       "      <td>2.0</td>\n",
       "      <td>0</td>\n",
       "      <td>0</td>\n",
       "      <td>0</td>\n",
       "      <td>0</td>\n",
       "      <td>0</td>\n",
       "      <td>0</td>\n",
       "    </tr>\n",
       "    <tr>\n",
       "      <th>4</th>\n",
       "      <td>25/7/2022</td>\n",
       "      <td>1015</td>\n",
       "      <td>101544767</td>\n",
       "      <td>1.0</td>\n",
       "      <td>1.0</td>\n",
       "      <td>1.0</td>\n",
       "      <td>0</td>\n",
       "      <td>0</td>\n",
       "      <td>0</td>\n",
       "      <td>0</td>\n",
       "      <td>0</td>\n",
       "      <td>0</td>\n",
       "    </tr>\n",
       "    <tr>\n",
       "      <th>...</th>\n",
       "      <td>...</td>\n",
       "      <td>...</td>\n",
       "      <td>...</td>\n",
       "      <td>...</td>\n",
       "      <td>...</td>\n",
       "      <td>...</td>\n",
       "      <td>...</td>\n",
       "      <td>...</td>\n",
       "      <td>...</td>\n",
       "      <td>...</td>\n",
       "      <td>...</td>\n",
       "      <td>...</td>\n",
       "    </tr>\n",
       "    <tr>\n",
       "      <th>194</th>\n",
       "      <td>13/9/2022</td>\n",
       "      <td>1008</td>\n",
       "      <td>100844817</td>\n",
       "      <td>3.0</td>\n",
       "      <td>19.0</td>\n",
       "      <td>3.0</td>\n",
       "      <td>0</td>\n",
       "      <td>0</td>\n",
       "      <td>0</td>\n",
       "      <td>Mild</td>\n",
       "      <td>Severe</td>\n",
       "      <td>0</td>\n",
       "    </tr>\n",
       "    <tr>\n",
       "      <th>195</th>\n",
       "      <td>14/9/2022</td>\n",
       "      <td>1006</td>\n",
       "      <td>100644818</td>\n",
       "      <td>2.0</td>\n",
       "      <td>27.0</td>\n",
       "      <td>4.0</td>\n",
       "      <td>0</td>\n",
       "      <td>0</td>\n",
       "      <td>0</td>\n",
       "      <td>0</td>\n",
       "      <td>0</td>\n",
       "      <td>0</td>\n",
       "    </tr>\n",
       "    <tr>\n",
       "      <th>196</th>\n",
       "      <td>14/9/2022</td>\n",
       "      <td>1008</td>\n",
       "      <td>100844818</td>\n",
       "      <td>3.0</td>\n",
       "      <td>20.0</td>\n",
       "      <td>3.0</td>\n",
       "      <td>0</td>\n",
       "      <td>0</td>\n",
       "      <td>0</td>\n",
       "      <td>Mild</td>\n",
       "      <td>Mild</td>\n",
       "      <td>0</td>\n",
       "    </tr>\n",
       "    <tr>\n",
       "      <th>197</th>\n",
       "      <td>16/9/2022</td>\n",
       "      <td>1008</td>\n",
       "      <td>100844820</td>\n",
       "      <td>3.0</td>\n",
       "      <td>22.0</td>\n",
       "      <td>4.0</td>\n",
       "      <td>Moderate</td>\n",
       "      <td>Mild</td>\n",
       "      <td>0</td>\n",
       "      <td>Mild</td>\n",
       "      <td>0</td>\n",
       "      <td>Mild</td>\n",
       "    </tr>\n",
       "    <tr>\n",
       "      <th>198</th>\n",
       "      <td>17/9/2022</td>\n",
       "      <td>1008</td>\n",
       "      <td>100844821</td>\n",
       "      <td>3.0</td>\n",
       "      <td>23.0</td>\n",
       "      <td>4.0</td>\n",
       "      <td>Moderate</td>\n",
       "      <td>0</td>\n",
       "      <td>0</td>\n",
       "      <td>0</td>\n",
       "      <td>0</td>\n",
       "      <td>Mild</td>\n",
       "    </tr>\n",
       "  </tbody>\n",
       "</table>\n",
       "<p>199 rows × 12 columns</p>\n",
       "</div>"
      ],
      "text/plain": [
       "          date  user_id  unique_id  cycle_id  cycle_day  phase_id  \\\n",
       "0    25/7/2022     1006  100644767       1.0        7.0       1.0   \n",
       "1    25/7/2022     1008  100844767       1.0       29.0       3.0   \n",
       "2    25/7/2022     1012  101244767       1.0       12.0       2.0   \n",
       "3    25/7/2022     1014  101444767       1.0       15.0       2.0   \n",
       "4    25/7/2022     1015  101544767       1.0        1.0       1.0   \n",
       "..         ...      ...        ...       ...        ...       ...   \n",
       "194  13/9/2022     1008  100844817       3.0       19.0       3.0   \n",
       "195  14/9/2022     1006  100644818       2.0       27.0       4.0   \n",
       "196  14/9/2022     1008  100844818       3.0       20.0       3.0   \n",
       "197  16/9/2022     1008  100844820       3.0       22.0       4.0   \n",
       "198  17/9/2022     1008  100844821       3.0       23.0       4.0   \n",
       "\n",
       "    abdomen_cramps backache tender_breasts muscle_ache headache bloating  \n",
       "0                0        0              0           0        0        0  \n",
       "1                0        0           Mild           0     Mild        0  \n",
       "2                0        0              0           0        0        0  \n",
       "3                0        0              0           0        0        0  \n",
       "4                0        0              0           0        0        0  \n",
       "..             ...      ...            ...         ...      ...      ...  \n",
       "194              0        0              0        Mild   Severe        0  \n",
       "195              0        0              0           0        0        0  \n",
       "196              0        0              0        Mild     Mild        0  \n",
       "197       Moderate     Mild              0        Mild        0     Mild  \n",
       "198       Moderate        0              0           0        0     Mild  \n",
       "\n",
       "[199 rows x 12 columns]"
      ]
     },
     "execution_count": 138,
     "metadata": {},
     "output_type": "execute_result"
    }
   ],
   "source": [
    "import pandas as pd\n",
    "import warnings\n",
    "import numpy as np\n",
    "import seaborn as sns\n",
    "import matplotlib.pyplot as plt\n",
    "from matplotlib import style\n",
    "\n",
    "\n",
    "warnings.simplefilter(action='ignore', category=FutureWarning)\n",
    "print('x' in np.arange(5))   #returns False, without Warning\n",
    "\n",
    "data = pd.read_csv('/Users/sowjanyanaidu/Library/Mobile Documents/com~apple~CloudDocs/Sample_Files/Cranberry.Fit Product Associate.xlsx - sample_dataset.csv')\n",
    "\n",
    "data.head()\n",
    "data = data.fillna(0)\n",
    "data.describe()\n",
    "data"
   ]
  },
  {
   "cell_type": "code",
   "execution_count": 140,
   "id": "a06bd053",
   "metadata": {},
   "outputs": [
    {
     "data": {
      "text/html": [
       "<div>\n",
       "<style scoped>\n",
       "    .dataframe tbody tr th:only-of-type {\n",
       "        vertical-align: middle;\n",
       "    }\n",
       "\n",
       "    .dataframe tbody tr th {\n",
       "        vertical-align: top;\n",
       "    }\n",
       "\n",
       "    .dataframe thead th {\n",
       "        text-align: right;\n",
       "    }\n",
       "</style>\n",
       "<table border=\"1\" class=\"dataframe\">\n",
       "  <thead>\n",
       "    <tr style=\"text-align: right;\">\n",
       "      <th></th>\n",
       "      <th>date</th>\n",
       "      <th>user_id</th>\n",
       "      <th>unique_id</th>\n",
       "      <th>cycle_id</th>\n",
       "      <th>cycle_day</th>\n",
       "      <th>phase_id</th>\n",
       "      <th>abdomen_cramps</th>\n",
       "      <th>backache</th>\n",
       "      <th>tender_breasts</th>\n",
       "      <th>muscle_ache</th>\n",
       "      <th>headache</th>\n",
       "      <th>bloating</th>\n",
       "    </tr>\n",
       "  </thead>\n",
       "  <tbody>\n",
       "    <tr>\n",
       "      <th>64</th>\n",
       "      <td>2/8/2022</td>\n",
       "      <td>1019</td>\n",
       "      <td>101944775</td>\n",
       "      <td>1.0</td>\n",
       "      <td>25.0</td>\n",
       "      <td>4.0</td>\n",
       "      <td>Extreme</td>\n",
       "      <td>Extreme</td>\n",
       "      <td>Extreme</td>\n",
       "      <td>Severe</td>\n",
       "      <td>0</td>\n",
       "      <td>Moderate</td>\n",
       "    </tr>\n",
       "    <tr>\n",
       "      <th>71</th>\n",
       "      <td>3/8/2022</td>\n",
       "      <td>1019</td>\n",
       "      <td>101944776</td>\n",
       "      <td>1.0</td>\n",
       "      <td>23.0</td>\n",
       "      <td>4.0</td>\n",
       "      <td>Moderate</td>\n",
       "      <td>Moderate</td>\n",
       "      <td>Moderate</td>\n",
       "      <td>Severe</td>\n",
       "      <td>0</td>\n",
       "      <td>Moderate</td>\n",
       "    </tr>\n",
       "  </tbody>\n",
       "</table>\n",
       "</div>"
      ],
      "text/plain": [
       "        date  user_id  unique_id  cycle_id  cycle_day  phase_id  \\\n",
       "64  2/8/2022     1019  101944775       1.0       25.0       4.0   \n",
       "71  3/8/2022     1019  101944776       1.0       23.0       4.0   \n",
       "\n",
       "   abdomen_cramps  backache tender_breasts muscle_ache headache  bloating  \n",
       "64        Extreme   Extreme        Extreme      Severe        0  Moderate  \n",
       "71       Moderate  Moderate       Moderate      Severe        0  Moderate  "
      ]
     },
     "execution_count": 140,
     "metadata": {},
     "output_type": "execute_result"
    }
   ],
   "source": [
    "data.query('abdomen_cramps!=0 & backache!=0' )\n",
    "data.query('abdomen_cramps!=0 & tender_breasts!=0' )\n",
    "data.query('abdomen_cramps!=0 & backache!=0 & tender_breasts!=0 & muscle_ache!=0 ')\n"
   ]
  },
  {
   "cell_type": "code",
   "execution_count": 169,
   "id": "c8885e56",
   "metadata": {},
   "outputs": [
    {
     "data": {
      "text/html": [
       "<div>\n",
       "<style scoped>\n",
       "    .dataframe tbody tr th:only-of-type {\n",
       "        vertical-align: middle;\n",
       "    }\n",
       "\n",
       "    .dataframe tbody tr th {\n",
       "        vertical-align: top;\n",
       "    }\n",
       "\n",
       "    .dataframe thead th {\n",
       "        text-align: right;\n",
       "    }\n",
       "</style>\n",
       "<table border=\"1\" class=\"dataframe\">\n",
       "  <thead>\n",
       "    <tr style=\"text-align: right;\">\n",
       "      <th></th>\n",
       "      <th>abdomen_cramps</th>\n",
       "      <th>backache</th>\n",
       "      <th>tender_breasts</th>\n",
       "      <th>muscle_ache</th>\n",
       "      <th>headache</th>\n",
       "      <th>bloating</th>\n",
       "    </tr>\n",
       "  </thead>\n",
       "  <tbody>\n",
       "    <tr>\n",
       "      <th>1</th>\n",
       "      <td>0</td>\n",
       "      <td>0</td>\n",
       "      <td>1</td>\n",
       "      <td>0</td>\n",
       "      <td>1</td>\n",
       "      <td>0</td>\n",
       "    </tr>\n",
       "    <tr>\n",
       "      <th>7</th>\n",
       "      <td>0</td>\n",
       "      <td>1</td>\n",
       "      <td>0</td>\n",
       "      <td>1</td>\n",
       "      <td>2</td>\n",
       "      <td>0</td>\n",
       "    </tr>\n",
       "    <tr>\n",
       "      <th>10</th>\n",
       "      <td>0</td>\n",
       "      <td>2</td>\n",
       "      <td>0</td>\n",
       "      <td>0</td>\n",
       "      <td>0</td>\n",
       "      <td>0</td>\n",
       "    </tr>\n",
       "    <tr>\n",
       "      <th>11</th>\n",
       "      <td>1</td>\n",
       "      <td>0</td>\n",
       "      <td>1</td>\n",
       "      <td>1</td>\n",
       "      <td>2</td>\n",
       "      <td>0</td>\n",
       "    </tr>\n",
       "    <tr>\n",
       "      <th>13</th>\n",
       "      <td>0</td>\n",
       "      <td>0</td>\n",
       "      <td>0</td>\n",
       "      <td>0</td>\n",
       "      <td>1</td>\n",
       "      <td>0</td>\n",
       "    </tr>\n",
       "    <tr>\n",
       "      <th>...</th>\n",
       "      <td>...</td>\n",
       "      <td>...</td>\n",
       "      <td>...</td>\n",
       "      <td>...</td>\n",
       "      <td>...</td>\n",
       "      <td>...</td>\n",
       "    </tr>\n",
       "    <tr>\n",
       "      <th>193</th>\n",
       "      <td>0</td>\n",
       "      <td>0</td>\n",
       "      <td>0</td>\n",
       "      <td>0</td>\n",
       "      <td>1</td>\n",
       "      <td>0</td>\n",
       "    </tr>\n",
       "    <tr>\n",
       "      <th>194</th>\n",
       "      <td>0</td>\n",
       "      <td>0</td>\n",
       "      <td>0</td>\n",
       "      <td>1</td>\n",
       "      <td>4</td>\n",
       "      <td>0</td>\n",
       "    </tr>\n",
       "    <tr>\n",
       "      <th>196</th>\n",
       "      <td>0</td>\n",
       "      <td>0</td>\n",
       "      <td>0</td>\n",
       "      <td>1</td>\n",
       "      <td>1</td>\n",
       "      <td>0</td>\n",
       "    </tr>\n",
       "    <tr>\n",
       "      <th>197</th>\n",
       "      <td>2</td>\n",
       "      <td>1</td>\n",
       "      <td>0</td>\n",
       "      <td>1</td>\n",
       "      <td>0</td>\n",
       "      <td>1</td>\n",
       "    </tr>\n",
       "    <tr>\n",
       "      <th>198</th>\n",
       "      <td>2</td>\n",
       "      <td>0</td>\n",
       "      <td>0</td>\n",
       "      <td>0</td>\n",
       "      <td>0</td>\n",
       "      <td>1</td>\n",
       "    </tr>\n",
       "  </tbody>\n",
       "</table>\n",
       "<p>76 rows × 6 columns</p>\n",
       "</div>"
      ],
      "text/plain": [
       "    abdomen_cramps backache tender_breasts muscle_ache headache bloating\n",
       "1                0        0              1           0        1        0\n",
       "7                0        1              0           1        2        0\n",
       "10               0        2              0           0        0        0\n",
       "11               1        0              1           1        2        0\n",
       "13               0        0              0           0        1        0\n",
       "..             ...      ...            ...         ...      ...      ...\n",
       "193              0        0              0           0        1        0\n",
       "194              0        0              0           1        4        0\n",
       "196              0        0              0           1        1        0\n",
       "197              2        1              0           1        0        1\n",
       "198              2        0              0           0        0        1\n",
       "\n",
       "[76 rows x 6 columns]"
      ]
     },
     "execution_count": 169,
     "metadata": {},
     "output_type": "execute_result"
    }
   ],
   "source": [
    "df = data.drop(['date','user_id','unique_id','cycle_id','cycle_day','phase_id'], axis=1)\n",
    "df = df.replace(\"Severe\",\"4\")\n",
    "df = df.replace(\"Extreme\",\"3\")\n",
    "df = df.replace(\"Moderate to Severe\",\"3\")\n",
    "df = df.replace(\"Moderate\",\"2\")\n",
    "df = df.replace(\"Mild\",\"1\")\n",
    "df = df.replace(\"mild\", \"1\")\n",
    "df.describe()\n",
    "\n",
    "index_names = df[ (df['abdomen_cramps'] == 0) & (df['backache'] == 0) & (df['tender_breasts'] == 0 ) & (df['muscle_ache'] == 0 ) & (df['headache'] == 0 ) & (df['bloating'] == 0) ].index\n",
    "\n",
    "df.drop(index_names, inplace = True)\n",
    "df"
   ]
  },
  {
   "cell_type": "code",
   "execution_count": 145,
   "id": "0f3a4e96",
   "metadata": {
    "scrolled": true
   },
   "outputs": [
    {
     "data": {
      "text/plain": [
       "Text(0.5, 1.0, 'Frequency of severity of abdomen_cramps')"
      ]
     },
     "execution_count": 145,
     "metadata": {},
     "output_type": "execute_result"
    },
    {
     "data": {
      "image/png": "[encoded data removed]",
      "text/plain": [
       "<Figure size 540x252 with 1 Axes>"
      ]
     },
     "metadata": {
      "needs_background": "light"
     },
     "output_type": "display_data"
    }
   ],
   "source": [
    "plt.rcParams[\"figure.figsize\"] = [7.50, 3.50]\n",
    "plt.rcParams[\"figure.autolayout\"] = True\n",
    "\n",
    "fig, ax = plt.subplots()\n",
    "\n",
    "df['abdomen_cramps'].value_counts().plot(ax=ax, kind='bar', xlabel='severity', ylabel='frequency')\n",
    "plt.title(\"Frequency of severity of abdomen_cramps\")\n"
   ]
  },
  {
   "cell_type": "code",
   "execution_count": 146,
   "id": "e603be64",
   "metadata": {},
   "outputs": [
    {
     "data": {
      "text/plain": [
       "Text(0.5, 1.0, 'Frequency of severity of backache')"
      ]
     },
     "execution_count": 146,
     "metadata": {},
     "output_type": "execute_result"
    },
    {
     "data": {
      "image/png": "[encoded data removed]",
      "text/plain": [
       "<Figure size 540x252 with 1 Axes>"
      ]
     },
     "metadata": {
      "needs_background": "light"
     },
     "output_type": "display_data"
    }
   ],
   "source": [
    "plt.rcParams[\"figure.figsize\"] = [7.50, 3.50]\n",
    "plt.rcParams[\"figure.autolayout\"] = True\n",
    "\n",
    "fig, ax = plt.subplots()\n",
    "\n",
    "df['backache'].value_counts().plot(ax=ax, kind='bar', xlabel='severity', ylabel='frequency')\n",
    "plt.title(\"Frequency of severity of backache\")"
   ]
  },
  {
   "cell_type": "code",
   "execution_count": 147,
   "id": "0b1259bc",
   "metadata": {},
   "outputs": [
    {
     "data": {
      "text/plain": [
       "Text(0.5, 1.0, 'Frequency of severity of tender_breasts')"
      ]
     },
     "execution_count": 147,
     "metadata": {},
     "output_type": "execute_result"
    },
    {
     "data": {
      "image/png": "[encoded data removed]",
      "text/plain": [
       "<Figure size 540x252 with 1 Axes>"
      ]
     },
     "metadata": {
      "needs_background": "light"
     },
     "output_type": "display_data"
    }
   ],
   "source": [
    "plt.rcParams[\"figure.figsize\"] = [7.50, 3.50]\n",
    "plt.rcParams[\"figure.autolayout\"] = True\n",
    "\n",
    "fig, ax = plt.subplots()\n",
    "\n",
    "df['tender_breasts'].value_counts().plot(ax=ax, kind='bar', xlabel='severity', ylabel='frequency')\n",
    "plt.title(\"Frequency of severity of tender_breasts\")"
   ]
  },
  {
   "cell_type": "code",
   "execution_count": 148,
   "id": "0c4cd77b",
   "metadata": {},
   "outputs": [
    {
     "data": {
      "text/plain": [
       "Text(0.5, 1.0, 'Frequency of severity of muscle_ache')"
      ]
     },
     "execution_count": 148,
     "metadata": {},
     "output_type": "execute_result"
    },
    {
     "data": {
      "image/png": "[encoded data removed]",
      "text/plain": [
       "<Figure size 540x252 with 1 Axes>"
      ]
     },
     "metadata": {
      "needs_background": "light"
     },
     "output_type": "display_data"
    }
   ],
   "source": [
    "plt.rcParams[\"figure.figsize\"] = [7.50, 3.50]\n",
    "plt.rcParams[\"figure.autolayout\"] = True\n",
    "\n",
    "fig, ax = plt.subplots()\n",
    "\n",
    "df['muscle_ache'].value_counts().plot(ax=ax, kind='bar', xlabel='severity', ylabel='frequency')\n",
    "plt.title(\"Frequency of severity of muscle_ache\")"
   ]
  },
  {
   "cell_type": "code",
   "execution_count": 149,
   "id": "adacc361",
   "metadata": {},
   "outputs": [
    {
     "data": {
      "text/plain": [
       "Text(0.5, 1.0, 'Frequency of severity of headache')"
      ]
     },
     "execution_count": 149,
     "metadata": {},
     "output_type": "execute_result"
    },
    {
     "data": {
      "image/png": "[encoded data removed]",
      "text/plain": [
       "<Figure size 540x252 with 1 Axes>"
      ]
     },
     "metadata": {
      "needs_background": "light"
     },
     "output_type": "display_data"
    }
   ],
   "source": [
    "plt.rcParams[\"figure.figsize\"] = [7.50, 3.50]\n",
    "plt.rcParams[\"figure.autolayout\"] = True\n",
    "\n",
    "fig, ax = plt.subplots()\n",
    "\n",
    "df['headache'].value_counts().plot(ax=ax, kind='bar', xlabel='severity', ylabel='frequency')\n",
    "plt.title(\"Frequency of severity of headache\")"
   ]
  },
  {
   "cell_type": "code",
   "execution_count": 150,
   "id": "39419161",
   "metadata": {},
   "outputs": [
    {
     "data": {
      "text/plain": [
       "Text(0.5, 1.0, 'Frequency of severity of bloating')"
      ]
     },
     "execution_count": 150,
     "metadata": {},
     "output_type": "execute_result"
    },
    {
     "data": {
      "image/png": "[encoded data removed]",
      "text/plain": [
       "<Figure size 540x252 with 1 Axes>"
      ]
     },
     "metadata": {
      "needs_background": "light"
     },
     "output_type": "display_data"
    }
   ],
   "source": [
    "plt.rcParams[\"figure.figsize\"] = [7.50, 3.50]\n",
    "plt.rcParams[\"figure.autolayout\"] = True\n",
    "\n",
    "fig, ax = plt.subplots()\n",
    "\n",
    "df['bloating'].value_counts().plot(ax=ax, kind='bar', xlabel='severity', ylabel='frequency')\n",
    "plt.title(\"Frequency of severity of bloating\")"
   ]
  }
 ],
 "metadata": {
  "kernelspec": {
   "display_name": "Python 3 (ipykernel)",
   "language": "python",
   "name": "python3"
  },
  "language_info": {
   "codemirror_mode": {
    "name": "ipython",
    "version": 3
   },
   "file_extension": ".py",
   "mimetype": "text/x-python",
   "name": "python",
   "nbconvert_exporter": "python",
   "pygments_lexer": "ipython3",
   "version": "3.9.12"
  }
 },
 "nbformat": 4,
 "nbformat_minor": 5
}
